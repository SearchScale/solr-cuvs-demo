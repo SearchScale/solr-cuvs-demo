{
 "cells": [
  {
   "cell_type": "code",
   "execution_count": null,
   "id": "ce001524-6ccf-4ca4-a3e3-266964e6086a",
   "metadata": {},
   "outputs": [],
   "source": [
    "%%bash\n",
    "solr-10.0.0-SNAPSHOT/bin/solr stop -p 8983\n",
    "export LD_LIBRARY_PATH=/cuvs/cpp/build:$LD_LIBRARY_PATH\n",
    "solr-10.0.0-SNAPSHOT/bin/solr start -m 12G --force"
   ]
  },
  {
   "cell_type": "code",
   "execution_count": null,
   "id": "9f8db9fc-59ed-44b4-ad96-917c27f67e9b",
   "metadata": {},
   "outputs": [],
   "source": [
    "%%bash\n",
    "solr-10.0.0-SNAPSHOT/bin/solr status"
   ]
  },
  {
   "cell_type": "code",
   "execution_count": null,
   "id": "42e2a094-917c-488b-b662-e7bc980c6c39",
   "metadata": {},
   "outputs": [],
   "source": [
    "%%bash\n",
    "cd /workingarea\n",
    "(cd conf && zip -r - *) | curl -X POST --header \"Content-Type:application/octet-stream\" --data-binary @- \"http://localhost:8983/solr/admin/configs?action=UPLOAD&name=cuvs\"\n",
    "curl \"http://localhost:8983/solr/admin/collections?action=CREATE&name=test&numShards=1&collection.configName=cuvs\""
   ]
  },
  {
   "cell_type": "code",
   "execution_count": null,
   "id": "626235a8-be87-45c0-9a07-cebaf7f863f0",
   "metadata": {},
   "outputs": [],
   "source": [
    "%%bash\n",
    "# Download dataset, create batches and upload to Solr\n",
    "cd /workingarea\n",
    "wget -c -nv https://accounts.searchscale.com/datasets/wikipedia/wiki_dump_5Mx2048D.csv.gz\n"
   ]
  },
  {
   "cell_type": "code",
   "execution_count": null,
   "id": "cb6be047-4ba0-4015-a6e7-a4da9f375e49",
   "metadata": {},
   "outputs": [],
   "source": [
    "%%bash\n",
    "\n",
    "mkdir batches\n",
    "java -cp solr-cuvs-benchmarks-1.0-SNAPSHOT-jar-with-dependencies.jar com.searchscale.benchmarks.Indexer data_file=wiki_dump_5Mx2048D.csv.gz output_file=batches/wiki batch_size=50000 docs_count=200000 legacy=true\n"
   ]
  },
  {
   "cell_type": "code",
   "execution_count": null,
   "id": "62500e39-26d9-4993-81b5-14089804752b",
   "metadata": {},
   "outputs": [],
   "source": [
    "%%bash\n",
    "\n",
    "chmod +x upload_all.sh\n",
    "./upload_all.sh"
   ]
  }
 ],
 "metadata": {
  "kernelspec": {
   "display_name": "Python 3 (ipykernel)",
   "language": "python",
   "name": "python3"
  },
  "language_info": {
   "codemirror_mode": {
    "name": "ipython",
    "version": 3
   },
   "file_extension": ".py",
   "mimetype": "text/x-python",
   "name": "python",
   "nbconvert_exporter": "python",
   "pygments_lexer": "ipython3",
   "version": "3.12.3"
  }
 },
 "nbformat": 4,
 "nbformat_minor": 5
}
